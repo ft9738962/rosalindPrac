{
 "cells": [
  {
   "cell_type": "markdown",
   "metadata": {},
   "source": [
    "## Practice 1\n",
    "### Counting DNA Nucleotides\n",
    "A string is simply an ordered collection of symbols selected from some alphabet and formed into a word; the length of a string is the number of symbols that it contains.\n",
    "\n",
    "An example of a length 21 DNA string (whose alphabet contains the symbols 'A', 'C', 'G', and 'T') is \"ATGCTTCAGAAAGGTCTTACG.\"\n",
    "- Given: A DNA string **s** of length at most 1000 nt\n",
    "- Return: Four integers (separated by spaces) counting the respective number of times that the symbols 'A', 'C', 'G', and 'T' occur in **s**.\n",
    "\n",
    "Sample In: AGCTTTTCATTCTGACTGCAACGGGCAATATGTCTCTGTGTGGATTAAAAAAAGAGTGTCTGATAGCAGC\n",
    "\n",
    "Sample Out: 20 12 17 21"
   ]
  },
  {
   "cell_type": "code",
   "execution_count": 4,
   "metadata": {},
   "outputs": [
    {
     "name": "stdout",
     "output_type": "stream",
     "text": [
      "内查：原字符串s的长度为851，Counter总数为851\n",
      "209 227 209 206\n"
     ]
    }
   ],
   "source": [
    "from collections import Counter\n",
    "origin_s = \"CAGCCGCACCGGCTGGTCATACTGAACCAACTCAAAGTTTAACTCCTAACTAAACACAGGAGTAACCCGGCTTAGCTCGCTTGCCTCCAATAATGCTGCATCCCTCATCCTTTCGAGATCACGGGGCCCGCCCAATAGCTATGCGCTTTTTTCAAGGCGTGTAACCACGTCCTTCCCATGCTCGCCCGGTGAAGTGACCCGTAACCGTAAGGGAAATGGAATGTACGACCCTAAATGTATGCGGCTAAGACGTCTAAGCGACCTACTATCACGGGGTCGGAATCGGTGACACGCACGCAGGCATGCGTACCAAATCCCATACAATTCAGTGTGGTGTGCAACCGGGCCCAGAGGGTGAACCCGACAGTTTCCGAAACAATCAGTGTAAGACACAAATGGCATCGATCTCGAAAGTGGTGGCGGTAACCGGATTGTTTGTTCTTGCGTTCTATTGCAGAGGCCATGCTCATATTCGGTAACTTGTTAAACTGATATTCTCCTTGCGACGGAGCTTCCAGGTGCCGAGAACTTAGCACACTCGTACACCTCCATGCTGTCGCTAAAATTGTTAACTTGATATAGATGCTGGGCCGCGGCTACGAAGTTGCCACACTGCTAACTCACGGGGTTGAATGAAACCTTGGACAGGACTAGCCGTTTTACCAGCTTGAATATCCCATTTAAGATCTGATGTGGTTCGCCCGCATCCAGCTACAGCCGAGTCGATGGAACACCGCGAGCTGTAGATGCGTCTATAGATCCCTTATTAGCACCTCGTCGAAATCAGGCTATTCTGCGTCACGGATTTGGTCGCCAGGTAGCCGGGCGTTATTAAAGGCTGGTTGCAGTCG\"\n",
    "s = Counter(origin_s)\n",
    "print(f'内查：原字符串s的长度为{len(origin_s)}，Counter总数为{sum(s.values())}')\n",
    "print(f\"{s['A']} {s['C']} {s['G']} {s['T']}\")"
   ]
  },
  {
   "cell_type": "markdown",
   "metadata": {},
   "source": [
    "## Practice 2\n",
    "### Transcribing DNA into RNA\n",
    "An RNA string is a string formed from the alphabet containing 'A', 'C', 'G', and 'U'.\n",
    "\n",
    "Given a DNA string ***t*** corresponding to a coding strand, its transcribed RNA string ***u*** is formed by replacing all occurrences of 'T' in t with 'U' in ***u***.\n",
    "- Given:  A DNA string ***t*** having length at most 1000 nt\n",
    "- Return: The transcribed RNA string of ***t***\n",
    "\n",
    "Sample In: GATGGAACTTGACTACGTAAATT\n",
    "\n",
    "Sample Out: GAUGGAACUUGACUACGUAAAUU"
   ]
  },
  {
   "cell_type": "code",
   "execution_count": 44,
   "metadata": {},
   "outputs": [
    {
     "data": {
      "text/plain": [
       "'yyy'"
      ]
     },
     "execution_count": 44,
     "metadata": {},
     "output_type": "execute_result"
    }
   ],
   "source": [
    "a = \"yyy\"\n",
    "a+(\"nsfs1\")\n",
    "a"
   ]
  },
  {
   "cell_type": "code",
   "execution_count": 47,
   "metadata": {},
   "outputs": [
    {
     "name": "stdout",
     "output_type": "stream",
     "text": [
      "GAUAGGACCCGGGCAAAGGAGCAGUACACUGUUCCUCGCAGAUUCAUUCGCAUGGGGGAUGAGACGCCCGGGCUAGAAGCUACACUGUGAAAUAUCUAGUAAGGUACUUACACCGCCUCUGACUGAAAAAUACGAGACAGCACUUCUGUUGCCUCUCCGAGCACAUGACCGUCAUCGCCUGCGCCCAAGGCAAACUAUCACUUGGUCAGGUCUUUCCGCAGAAAUCGCAUAGCACGCCUAUGAGGCCUACCUUUGCGGGGGUAAGCUAUAAGCUUCGAUCAGAAUCUCUUCUUUCUGGGCUCAGGGCCAGCACCAUUGAGUACACGGUAAGACUAGUGCCAAUCACGAGGCUAUCCUUUUAGGAUAUCGGGAAAACAACAAACUUUACCCUAGCUGAGCGCGUUGUUACGCCCGUCUUAUGGGUUUUCUUGUACUCUGGGGAGAACGGCUUAGUUCAAGUUAACAGAUCUCAGUUAGUAGUUGAUCAUAAUAAGAAUUUUUGGAACCAUUCAACGGCAUUCUUGAUGGUGCUCUGCUGUCCCACCAUCCAACACACAUUCUUGCCUGGACUUCGUCACCCAUCCGGAUUUAACUGCAUCACGUUGUCUUUCGGUGAAGUAUGAAUACGCGCUUCAACAGGGAUACACUCCACGCUAGUAGAGGUUAGACGUAAUUGGUCUCGGGUGAGACAACACGUAGAAGCAAGCCCCAGACAACCCUUAUAUGAAGGAGUCGUCUGAAACUCAUGGAAGAUUGCUUAUAUAGCCAGCCAAGAUAUCAAACGUAUACUAAAUCUCAAGGCCACCACCUAGAGAUGGAAUAGUCCCAGAAUCAACGGCGAUCUUCGCCAACGCCCUCCCGUUCAGUGCAGGACAAAGGAGGAACACCUUAUACAAAACACUCAGUUGGUAAACAGCGCAGAGCGGCCAUUCGCUGCGUAUACCCGUU\n"
     ]
    }
   ],
   "source": [
    "t = \"GATAGGACCCGGGCAAAGGAGCAGTACACTGTTCCTCGCAGATTCATTCGCATGGGGGATGAGACGCCCGGGCTAGAAGCTACACTGTGAAATATCTAGTAAGGTACTTACACCGCCTCTGACTGAAAAATACGAGACAGCACTTCTGTTGCCTCTCCGAGCACATGACCGTCATCGCCTGCGCCCAAGGCAAACTATCACTTGGTCAGGTCTTTCCGCAGAAATCGCATAGCACGCCTATGAGGCCTACCTTTGCGGGGGTAAGCTATAAGCTTCGATCAGAATCTCTTCTTTCTGGGCTCAGGGCCAGCACCATTGAGTACACGGTAAGACTAGTGCCAATCACGAGGCTATCCTTTTAGGATATCGGGAAAACAACAAACTTTACCCTAGCTGAGCGCGTTGTTACGCCCGTCTTATGGGTTTTCTTGTACTCTGGGGAGAACGGCTTAGTTCAAGTTAACAGATCTCAGTTAGTAGTTGATCATAATAAGAATTTTTGGAACCATTCAACGGCATTCTTGATGGTGCTCTGCTGTCCCACCATCCAACACACATTCTTGCCTGGACTTCGTCACCCATCCGGATTTAACTGCATCACGTTGTCTTTCGGTGAAGTATGAATACGCGCTTCAACAGGGATACACTCCACGCTAGTAGAGGTTAGACGTAATTGGTCTCGGGTGAGACAACACGTAGAAGCAAGCCCCAGACAACCCTTATATGAAGGAGTCGTCTGAAACTCATGGAAGATTGCTTATATAGCCAGCCAAGATATCAAACGTATACTAAATCTCAAGGCCACCACCTAGAGATGGAATAGTCCCAGAATCAACGGCGATCTTCGCCAACGCCCTCCCGTTCAGTGCAGGACAAAGGAGGAACACCTTATACAAAACACTCAGTTGGTAAACAGCGCAGAGCGGCCATTCGCTGCGTATACCCGTT\"\n",
    "u = \"\"\n",
    "for i in range(len(t)):\n",
    "    if t[i] != 'T':\n",
    "        u = u+t[i]\n",
    "    else: \n",
    "        u = u+('U')\n",
    "print(u)"
   ]
  },
  {
   "cell_type": "markdown",
   "metadata": {},
   "source": [
    "## Problem 3\n",
    "### Complementing a Strand of DNA\n",
    "In DNA strings, symbols 'A' and 'T' are complements of each other, as are 'C' and 'G'\n",
    "\n",
    "The reverse complement of a DNA string s is the string sc formed by reversing the symbols of s, then taking the complement of each symbol (e.g., the reverse complement of \"GTCA\" is \"TGAC\")\n",
    "- Given: A DNA string ***s*** of length at most 1000 bp\n",
    "- Return: The reverse complement ***s<sup>c</sup>*** of ***s***\n",
    "\n",
    "Sample In: AAAACCCGGT\n",
    "\n",
    "Sample Out: ACCGGGTTTT"
   ]
  },
  {
   "cell_type": "code",
   "execution_count": 51,
   "metadata": {},
   "outputs": [
    {
     "name": "stdout",
     "output_type": "stream",
     "text": [
      "GGGATTTACTGGACGCCTTGTCGGAGATCTGATGAGCTCCAACAGATAGGTCTATTATCGAGGCCTGAACTACCTTCTGTAGTATATGTTCCAGCACTATAAGCGATTGGGGACCGCGATCAGTAAAAGATAGGGAATTCCCATGCTCCTGTGTATGTCCTCAGGCTAATAGGAGACATGCCCCTTACATAACCGTCAGGTTTTAAAAAATCAACGACAGTGAGGCAAATAGGTACATAAACCGCCATGGCGAGTATGAGTGCTCGGCGTGAGGCAGATGTATATCATTCCTGCGGTGCGTTCATCATTAGGCGGAGAAAGTTGGTTTGCCCTCTACAGTACGCCCAGAGTGATCGTTAGCCGTCTTGATTTAAGCCGGGCCAGGCGGTTCGTAGAGCTCACGTAGCGCACTGCAGGGTCATTTGAGGACGCGCTGTGTGCCTCCTGCATACCGTGTCTGAGCGAGTTCCCTCTAGTGAGATACTGTCTTGTAGGTAGACAAATCCATTGATTTATTCCAACTCGATCTCCAAAGCCTAAATTTGAATATTGTTGCGCCGCATGACGGGTAACTAGTACTACGTGTTTGGGACTCTTGACAAACATCACTACGGAGCAGGCCCGTTAATGTTGCCGTGACAGATTGGACAGCTATAGAGCAAAGAGCGTACTGAAATGTAACATTAAGCTGTTCTCCCGGACGTCTCCTGCGACTTCTTCTGAAACGCACGCGGTCTACTCTCGAATCTCGAGGTCTACATAGATCTGAGTAATCGACCTCCGGGGGATTCTTGAGCACGCGAACGATGATCACTCACACGACATAAACTTAATACGGGCCGAGGGTCATGTGTGTAACATTAAGCGGTAGAACTTTCTACGTGAAAGTATGTTCCACCCCGACCCGCCCGGACTCTTTCAAACGTAGC\n"
     ]
    }
   ],
   "source": [
    "s = \"GCTACGTTTGAAAGAGTCCGGGCGGGTCGGGGTGGAACATACTTTCACGTAGAAAGTTCTACCGCTTAATGTTACACACATGACCCTCGGCCCGTATTAAGTTTATGTCGTGTGAGTGATCATCGTTCGCGTGCTCAAGAATCCCCCGGAGGTCGATTACTCAGATCTATGTAGACCTCGAGATTCGAGAGTAGACCGCGTGCGTTTCAGAAGAAGTCGCAGGAGACGTCCGGGAGAACAGCTTAATGTTACATTTCAGTACGCTCTTTGCTCTATAGCTGTCCAATCTGTCACGGCAACATTAACGGGCCTGCTCCGTAGTGATGTTTGTCAAGAGTCCCAAACACGTAGTACTAGTTACCCGTCATGCGGCGCAACAATATTCAAATTTAGGCTTTGGAGATCGAGTTGGAATAAATCAATGGATTTGTCTACCTACAAGACAGTATCTCACTAGAGGGAACTCGCTCAGACACGGTATGCAGGAGGCACACAGCGCGTCCTCAAATGACCCTGCAGTGCGCTACGTGAGCTCTACGAACCGCCTGGCCCGGCTTAAATCAAGACGGCTAACGATCACTCTGGGCGTACTGTAGAGGGCAAACCAACTTTCTCCGCCTAATGATGAACGCACCGCAGGAATGATATACATCTGCCTCACGCCGAGCACTCATACTCGCCATGGCGGTTTATGTACCTATTTGCCTCACTGTCGTTGATTTTTTAAAACCTGACGGTTATGTAAGGGGCATGTCTCCTATTAGCCTGAGGACATACACAGGAGCATGGGAATTCCCTATCTTTTACTGATCGCGGTCCCCAATCGCTTATAGTGCTGGAACATATACTACAGAAGGTAGTTCAGGCCTCGATAATAGACCTATCTGTTGGAGCTCATCAGATCTCCGACAAGGCGTCCAGTAAATCCC\"\n",
    "sr = s[::-1]\n",
    "sc = ''\n",
    "trans = {\"A\":\"T\",\"C\":\"G\",\"G\":\"C\",\"T\":\"A\"}\n",
    "for i in sr:\n",
    "    sc += trans[i]\n",
    "print(sc)"
   ]
  },
  {
   "cell_type": "markdown",
   "metadata": {},
   "source": [
    "## Problem 4\n",
    "### Rabbits and Recurrence Relations\n",
    "A sequence is an ordered collection of objects (usually numbers), which are allowed to repeat. Sequences can be finite or infinite. Two examples are the finite sequence (π,−2–√,0,π) and the infinite sequence of odd numbers (1,3,5,7,9,…). We use the notation an to represent the n-th term of a sequence.\n",
    "\n",
    "A recurrence relation is a way of defining the terms of a sequence with respect to the values of previous terms. In the case of Fibonacci's rabbits from the introduction, any given month will contain the rabbits that were alive the previous month, plus any new offspring. A key observation is that the number of offspring in any month is equal to the number of rabbits that were alive two months prior. As a result, if Fn represents the number of rabbit pairs alive after the n-th month, then we obtain the Fibonacci sequence having terms Fn that are defined by the recurrence relation Fn=Fn−1+Fn−2 (with F1=F2=1 to initiate the sequence). Although the sequence bears Fibonacci's name, it was known to Indian mathematicians over two millennia ago.\n",
    "\n",
    "When finding the n-th term of a sequence defined by a recurrence relation, we can simply use the recurrence relation to generate terms for progressively larger values of n. This problem introduces us to the computational technique of dynamic programming, which successively builds up solutions by using the answers to smaller cases.\n",
    "- Given: Positive integers n≤40 and k≤5.\n",
    "- Return: The total number of rabbit pairs that will be present after n months, if we begin with 1 pair and in each generation, every pair of reproduction-age rabbits produces a litter of k rabbit pairs (instead of only 1 pair)\n",
    "\n",
    "Sample In: 5 3\n",
    "\n",
    "Sample Out: 19"
   ]
  },
  {
   "cell_type": "code",
   "execution_count": 1,
   "metadata": {},
   "outputs": [],
   "source": [
    "def rab_rep(k, n):\n",
    "    if k == 1:\n",
    "        return 1\n",
    "    elif k == 2:\n",
    "        return 1\n",
    "    elif k > 2:\n",
    "        return 3*rab_rep(k-2, n) + rab_rep(k-1, n)"
   ]
  },
  {
   "cell_type": "code",
   "execution_count": 2,
   "metadata": {},
   "outputs": [
    {
     "data": {
      "text/plain": [
       "19"
      ]
     },
     "execution_count": 2,
     "metadata": {},
     "output_type": "execute_result"
    }
   ],
   "source": [
    "rab_rep(5,3)"
   ]
  },
  {
   "cell_type": "code",
   "execution_count": 3,
   "metadata": {},
   "outputs": [
    {
     "data": {
      "text/plain": [
       "47079164257"
      ]
     },
     "execution_count": 3,
     "metadata": {},
     "output_type": "execute_result"
    }
   ],
   "source": [
    "rab_rep(31,3)"
   ]
  },
  {
   "cell_type": "markdown",
   "metadata": {},
   "source": [
    "## Problem 5\n",
    "### Computing GC Content\n",
    "The GC-content of a DNA string is given by the percentage of symbols in the string that are 'C' or 'G'. For example, the GC-content of \"AGCTATAG\" is 37.5%. Note that the reverse complement of any DNA string has the same GC-content.\n",
    "\n",
    "DNA strings must be labeled when they are consolidated into a database. A commonly used method of string labeling is called FASTA format. In this format, the string is introduced by a line that begins with '>', followed by some labeling information. Subsequent lines contain the string itself; the first line to begin with '>' indicates the label of the next string.\n",
    "\n",
    "In Rosalind's implementation, a string in FASTA format will be labeled by the ID \"Rosalind_xxxx\", where \"xxxx\" denotes a four-digit code between 0000 and 9999.\n",
    "- Given: At most 10 DNA strings in FASTA format (of length at most 1 kbp each).\n",
    "- Return: The ID of the string having the highest GC-content, followed by the GC-content of that string. Rosalind allows for a default error of 0.001 in all decimal answers unless otherwise stated; please see the note on absolute error below.\n",
    "\n",
    "Sample In: >Rosalind_0808\n",
    "CCACCCTCGTGGTATGGCTAGGCATTCAGGAACCGGAGAACGCTTCAGACCAGCCCGGAC\n",
    "TGGGAACCTGCGGGCAGTAGGTGGAAT\n",
    "\n",
    "Sample Out: Rosalind_0808\n",
    "60.919540"
   ]
  },
  {
   "cell_type": "code",
   "execution_count": 58,
   "metadata": {},
   "outputs": [
    {
     "name": "stdout",
     "output_type": "stream",
     "text": [
      "Rosalind_8551\n",
      "50.936330\n",
      "Rosalind_1893\n",
      "47.636816\n",
      "Rosalind_0779\n",
      "48.312236\n",
      "Rosalind_3224\n",
      "49.413020\n",
      "Rosalind_4956\n",
      "49.599084\n",
      "Rosalind_4012\n",
      "50.213675\n"
     ]
    }
   ],
   "source": [
    "dna_strings = z.split('>')\n",
    "for i in range(1, len(dna_strings)):\n",
    "    origin_s = dna_strings[i]\n",
    "    split_s = origin_s.split(\"\\n\")\n",
    "    FASTA = split_s[0]\n",
    "    dna = \"\"\n",
    "    for j in range(1, len(split_s)):\n",
    "        dna += split_s[j]\n",
    "    s = Counter(dna)\n",
    "    print(f'{FASTA}\\n{format((s[\"C\"]+s[\"G\"])*100/sum(s.values()), \".6f\")}')"
   ]
  },
  {
   "cell_type": "markdown",
   "metadata": {},
   "source": [
    "## Problem 6\n",
    "### Counting Point Mutations\n",
    "Given two strings s and t of equal length, the Hamming distance between s and t, denoted dH(s,t), is the number of corresponding symbols that differ in s and t. See Figure 2.\n",
    "- Given: Two DNA strings s and t of equal length (not exceeding 1 kbp).\n",
    "- Return: The Hamming distance dH(s,t).\n",
    "\n",
    "Sample In: GAGCCTACTAACGGGAT\n",
    "CATCGTAATGACGGCCT\n",
    "\n",
    "Sample Out: 7"
   ]
  },
  {
   "cell_type": "code",
   "execution_count": 71,
   "metadata": {
    "scrolled": true
   },
   "outputs": [
    {
     "data": {
      "text/plain": [
       "513"
      ]
     },
     "execution_count": 71,
     "metadata": {},
     "output_type": "execute_result"
    }
   ],
   "source": [
    "with open(\"C:\\\\Users\\\\Administrator\\\\Downloads\\\\rosalind_hamm.txt\", 'r', encoding='utf8') as f:\n",
    "    a = f.readline().replace('\\n','')\n",
    "    b = f.readline().replace('\\n','')\n",
    "count = 0\n",
    "for i in range(len(a)):\n",
    "    if a[i] != b[i]:\n",
    "        count += 1\n",
    "count\n",
    "        "
   ]
  },
  {
   "cell_type": "markdown",
   "metadata": {},
   "source": [
    "## Problem 7\n",
    "### Mendel's First Law\n",
    "Probability is the mathematical study of randomly occurring phenomena. We will model such a phenomenon with a random variable, which is simply a variable that can take a number of different distinct outcomes depending on the result of an underlying random process.\n",
    "\n",
    "For example, say that we have a bag containing 3 red balls and 2 blue balls. If we let X represent the random variable corresponding to the color of a drawn ball, then the probability of each of the two outcomes is given by Pr(X=red)=35 and Pr(X=blue)=25.\n",
    "\n",
    "Random variables can be combined to yield new random variables. Returning to the ball example, let Y model the color of a second ball drawn from the bag (without replacing the first ball). The probability of Y being red depends on whether the first ball was red or blue. To represent all outcomes of X and Y, we therefore use a probability tree diagram. This branching diagram represents all possible individual probabilities for X and Y, with outcomes at the endpoints (\"leaves\") of the tree. The probability of any outcome is given by the product of probabilities along the path from the beginning of the tree; see Figure 2 for an illustrative example.\n",
    "\n",
    "An event is simply a collection of outcomes. Because outcomes are distinct, the probability of an event can be written as the sum of the probabilities of its constituent outcomes. For our colored ball example, let A be the event \"Y is blue.\" Pr(A) is equal to the sum of the probabilities of two different outcomes: Pr(X=blue and Y=blue)+Pr(X=red and Y=blue)\n",
    "\n",
    "- Given: Three positive integers k, m, and n, representing a population containing k+m+n organisms: k individuals are homozygous dominant for a factor, m are heterozygous, and n are homozygous recessive.\n",
    "\n",
    "- Return: The probability that two randomly selected mating organisms will produce an individual possessing a dominant allele (and thus displaying the dominant phenotype). Assume that any two organisms can mate\n",
    "\n",
    "Sample In: 2 2 2\n",
    "\n",
    "Sample Out: 0.78333"
   ]
  },
  {
   "cell_type": "code",
   "execution_count": 96,
   "metadata": {},
   "outputs": [],
   "source": [
    "def form_bag(k,m,n):\n",
    "    hd=[1,1]\n",
    "    he=[1,2]\n",
    "    hr=[2,2]\n",
    "    bag = []\n",
    "    for _ in range(k):\n",
    "        bag.append(hd)\n",
    "    for _ in range(m):\n",
    "        bag.append(he)\n",
    "    for _ in range(n):\n",
    "        bag.append(hr)\n",
    "    return bag\n",
    "\n",
    "def add_allels(a, b):\n",
    "    r = [a[0] + b[0], a[0]+b[1],a[1]+b[0],a[1]+b[1]]\n",
    "    r = [x < 4 for x in r]\n",
    "    return Counter(r)\n",
    "\n",
    "def bag_add(bag):\n",
    "    bag_r = {'True':0, 'False':0}\n",
    "    for i in range(len(bag)):\n",
    "        for j in range(i+1, len(bag)):\n",
    "            r = add_allels(bag[i], bag[j])\n",
    "            bag_r['True'] += r[True]\n",
    "            bag_r['False'] += r[False]\n",
    "    return bag_r\n",
    "\n",
    "def cal_ratio(bag_r):\n",
    "    return bag_r['True']/sum(bag_r.values())"
   ]
  },
  {
   "cell_type": "code",
   "execution_count": 97,
   "metadata": {},
   "outputs": [
    {
     "data": {
      "text/plain": [
       "0.7833333333333333"
      ]
     },
     "execution_count": 97,
     "metadata": {},
     "output_type": "execute_result"
    }
   ],
   "source": [
    "cal_ratio(bag_add(form_bag(2,2,2)))"
   ]
  },
  {
   "cell_type": "code",
   "execution_count": 98,
   "metadata": {
    "scrolled": true
   },
   "outputs": [
    {
     "data": {
      "text/plain": [
       "0.7458069620253165"
      ]
     },
     "execution_count": 98,
     "metadata": {},
     "output_type": "execute_result"
    }
   ],
   "source": [
    "cal_ratio(bag_add(form_bag(26,27,27)))"
   ]
  },
  {
   "cell_type": "markdown",
   "metadata": {},
   "source": [
    "## Problem 8\n",
    "### Translating RNA into Protein\n",
    "The 20 commonly occurring amino acids are abbreviated by using 20 letters from the English alphabet (all letters except for B, J, O, U, X, and Z). Protein strings are constructed from these 20 symbols. Henceforth, the term genetic string will incorporate protein strings along with DNA strings and RNA strings.\n",
    "\n",
    "The RNA codon table dictates the details regarding the encoding of specific codons into the amino acid alphabet.\n",
    "\n",
    "- Given: An RNA string s corresponding to a strand of mRNA (of length at most 10 kbp).\n",
    "\n",
    "- Return: The protein string encoded by s.\n",
    "\n",
    "Sample In: AUGGCCAUGGCGCCCAGAACUGAGAUCAAUAGUACCCGUAUUAACGGGUGA\n",
    "\n",
    "Sample Out: MAMAPRTEINSTRING"
   ]
  },
  {
   "cell_type": "code",
   "execution_count": 99,
   "metadata": {},
   "outputs": [],
   "source": [
    "condon_tbl = {\n",
    "    'UUU': 'F', 'CUU': 'L', 'AUU': 'I', 'GUU': 'V',\n",
    "    'UUC': 'F', 'CUC': 'L', 'AUC': 'I', 'GUC': 'V',\n",
    "    'UUA': 'L', 'CUA': 'L', 'AUA': 'I', 'GUA': 'V',\n",
    "    'UUG': 'L', 'CUG': 'L', 'AUG': 'M', 'GUG': 'V',\n",
    "    'UCU': 'S', 'CCU': 'P', 'ACU': 'T', 'GCU': 'A',\n",
    "    'UCC': 'S', 'CCC': 'P', 'ACC': 'T', 'GCC': 'A',\n",
    "    'UCA': 'S', 'CCA': 'P', 'ACA': 'T', 'GCA': 'A',\n",
    "    'UCG': 'S', 'CCG': 'P', 'ACG': 'T', 'GCG': 'A',\n",
    "    'UAU': 'Y', 'CAU': 'H', 'AAU': 'N', 'GAU': 'D',\n",
    "    'UAC': 'Y', 'CAC': 'H', 'AAC': 'N', 'GAC': 'D',\n",
    "    'UAA': '', 'CAA': 'Q', 'AAA': 'K', 'GAA': 'E',\n",
    "    'UAG': '', 'CAG': 'Q', 'AAG': 'K', 'GAG': 'E',\n",
    "    'UGU': 'C', 'CGU': 'R', 'AGU': 'S', 'GGU': 'G',\n",
    "    'UGC': 'C', 'CGC': 'R', 'AGC': 'S', 'GGC': 'G',\n",
    "    'UGA': '', 'CGA': 'R', 'AGA': 'R', 'GGA': 'G',\n",
    "    'UGG': 'W', 'CGG': 'R', 'AGG': 'R', 'GGG': 'G' \n",
    "}"
   ]
  },
  {
   "cell_type": "code",
   "execution_count": 104,
   "metadata": {},
   "outputs": [],
   "source": [
    "def tran_RNA(rna, condon_tbl):\n",
    "    out = ''\n",
    "    for i in range(0, len(rna), 3):\n",
    "        out += condon_tbl[rna[i:i+3]]\n",
    "    return out"
   ]
  },
  {
   "cell_type": "code",
   "execution_count": 105,
   "metadata": {},
   "outputs": [
    {
     "data": {
      "text/plain": [
       "True"
      ]
     },
     "execution_count": 105,
     "metadata": {},
     "output_type": "execute_result"
    }
   ],
   "source": [
    "test = 'AUGGCCAUGGCGCCCAGAACUGAGAUCAAUAGUACCCGUAUUAACGGGUGA'\n",
    "tran_RNA(test, condon_tbl) == 'MAMAPRTEINSTRING'"
   ]
  },
  {
   "cell_type": "code",
   "execution_count": 111,
   "metadata": {},
   "outputs": [
    {
     "name": "stdout",
     "output_type": "stream",
     "text": [
      "MEIIHAFPWPLVLCGEYRSVGLTITAVGPYGHSFICALYCRGLHGASRKWSFGLRRYSRTRLTQLLPRTDPLLDQLASHSHILRPRPTHNQGFWLHTQTSTQRGRRNGTKIPLYEDLLPHETPPPLTCGGSGPHEVSTRPAVRHNPLTPVFDLIYQATPVSQYGTSFTLSLITSRNEHTTYGSSRIGQRADAETLTKGLKSIRMTSYNEMMHLRLLCIPPWYTLLPIRSNYRVRLSEFKLESVVYNSAPYLVSAISGGIWIVNSHGKLATRLPGLQVGASLWYPPIRVALICLLKIHGLHTRTSIAMSEYHDSQRIFGTPCAVPFPLNPGLYSVPTMVCTCVKRFVYRGWFRSRLTCVILREFRPNTNTMILRNPLARLLGLLKNYVQSSENKAEQAGVYLYYGLHLRLKPRCAQSVARALVRGLGRLIYSDSQASRLLFQWTSGTLRHTLWKSRSRLVLLGKSCGTSGSPKISLDYADSSRISYSLVRLLSVIGGFCRRGWLTSRNISRLSLIPSASRILPRPKCLTRNRSNGPIQIRGSDIVVSSNTHRHEPIGVPTLLSRHARPLYCSPITSLKQWPLYLLEPKPWGCWCRTQWRHLALGHYSAIETDSADTRTRAWLTYLNLTPLGSECVRSSQSTNADGLPIILRYMIYPTSKFSKASARFYYVLGSPNSAHSQVSIRDRPDPWPRVSLMLETYEPLPTRENRPWEVGTQTRPSQMSLFFFDATVRRRTAYGSVTVCARILRWYEVVGKSRVIRPHGQGRLKYIGKSSIVPSDIFAALLNLEAFYNPPLLMEVFLLHTSLWALVTKLRNIANVYELGNSAQRADRGLYEPDNTLLHFQDQCIAFNRYRNNFCLGFERHCVHHVVRPPSTNTDSLAWAELKPIISAGPIKLGSVRSAAMLCAVISWTCFFDWAMFERSHFHSRVRPKYGILTSGVCRIRAASAPWHSFGKSLMYLFSIGCFRQTMLGPAKNEWPNILFLGCEGFGMAVLRQVTGISVQRLNYKSWGWFSRPNNYDLPLSISVEPRTAWAYNIYPKSCGVKSSSCLSASCQISPQVLPYSVRSKKEIGKAPRTQCIDIVASLLSSQLHLVLLRNAGWARRWRRSQSALWMDPMRMYSHIDISLSRPICFCHSIRMMRRDGPPMRSRTQEREIVSCSSAVLQFESWRLFALRLDRVLGCAAQTRRANKASLYLGGPPVHSSKGDTSEETLVPVLVQATLSNYTARPYRSHNLSTPRRRAYPPALGTHSGTNATAVRWATAPLLGTRLGICVHQMPTLAYVYSGRFSDFEAPFPFKRQLANGRDSAHGWVLYNRSLPVLWAGLWPHFIDKHVHVPHGDECRFNGHSLCLDLRRIEPRRGGQYAGHNDFGISRACSWRLQIHSIAMMGEYVSIIVGIVIQPKALPPNPNLRGCRRTVQIRCYSGTDPHYTSVSQAWHRALDCSVHSCFCGCPELRSLAPSAPNYYPVNTAPLFYWFKALLKAVVFMLDTVRSTTARPRRVNNSTAWLSDQVQFFLLSVVDWPSLALLSKAPLRLWRLLRFSRTALRFLPRYSERILGANSTFAVPDVATVSYVSVELGGFPLNPGTVAHKTGGRSHAERIAGSRSGGRHESLCGAGCSVPVRFLPDRCGSRLSDYTGMYRGSEQITMSGRFEYVRGLSYGVRIRSTDTLTLRALDVETRNTSRSSRGPRPFLELRTLPVNSLNYRAALAESQSSGPLLLHCGPRNRRFGTAEGYRKRQWLRSVTTPAQGFLSGIVPDALQRHPHISTFAMTIRCRATLNEVSTSPCTDHYERAREGRTLVALPSIRFRCIIALRIKVSLSDRCVARGSATGTFTVRNITVIGITEPPRCLMRTNYSCNQFVMSCERTPRDFIALTPLPKISLGNLIMSQITTSHGRFGYAYWTCTDITEAPDKYRHSFYGTHIAVIEMTKSLRRHTPIRLRTKVSLPGITTQYMFPNYLLPMGRSAWCRLICRSMYAALVCPRCYPKTVVIRCTSRTGRSLSTNGRHTNKHCTLLDWLMEVRQKPTGLLSTRQSEGLNSRNACQRTRALQAAGRDNQSSYSSFWGMFAVITRFSNVHSLVLQRSLFLIVHKVLVTIPQLITVQVCGIQQIASMLHCIPPMAQLLLLWYRMTVDTGPLPNLMTHAVVPSDHRQFSPIDHGSWRPLRVKNQRSDHPGIRERDSITQSVDCDAQRPIRSLARNSITGTVLHHTLGQATIDTCSALSDPSALSAMHAGARSHTAFRTRSYDMCSINLGPVNCTCVSSPGVERLIAICLNRIRDKSFDSSVSSKKRGWSEKFSSSWRCAIKVSGNGVGTNRFTLIVRGNIGHLESFVYIYPVHIAAGYLIRPVDIPLPIRKRSQSHDHGRMSGNVLSSYPTFENYVRQVQCIPPNVEKRLGTCDNVIPKSSLSRATLGSYESHSEELYHSQMAGAKFLGPTGSLKSYRSRGQGTAVKFSRTEGIRLLVRTTPPNLYRYRGRASGGTGLKLSLITSETSISPGRWHQRLRKPKHLTLGLNVLTNLRTSYRFCVPNWLTRINCVFIINIHLRPYLLLLAYPPQQAGSGALVHRKPYGCLEDRTSKLGITGPTITVATVTIGDSQRVPVPRAQEHNALPSGSCVYMRERTRLNVWRYTLRPVMMVEGSATPETPQGCVLPLYKTITSVASPIATTPKIRGKRGNARVVYATSMSGVRKFNFIPCIRLVTHGETFFGATLRGQIGAQIKPSLPPLGKHNLLLNEMLGWLTRPLNLCSSKRFPYRLSIARPGNEPYNITYQSNRTTCKENLEFSKTVAKDPLSRRDLARIETSIVQFRPHRKNRYDLKNSPAYIRTEAIYRSSLCVDRLQVSSLQTENLHFRYGVHATRLRARKRKRTGGAPYIRTGTAFVDLLHSQTGPGYSPSLFKLSRRLVLYHRVRLSGYIGADSLLAVPVGHYIWSLTYLTGRNYLSNSHTSSSLQKKLAICYPKVGRLVRPRTRLLYEDLGVWGVTTDRSSSFDPADLVLSAGGNGRDGV\n"
     ]
    }
   ],
   "source": [
    "with open('C:/Users/Administrator/Downloads/rosalind_prot.txt','r') as f:\n",
    "    rna = f.read().replace('\\n','')\n",
    "    print(tran_RNA(rna, condon_tbl))"
   ]
  },
  {
   "cell_type": "markdown",
   "metadata": {},
   "source": [
    "## Problem 9\n",
    "### Finding a Motif in DNA\n",
    "Given two strings s and t, t is a substring of s if t is contained as a contiguous collection of symbols in s (as a result, t must be no longer than s).\n",
    "\n",
    "The position of a symbol in a string is the total number of symbols found to its left, including itself (e.g., the positions of all occurrences of 'U' in \"AUGCUUCAGAAAGGUCUUACG\" are 2, 5, 6, 15, 17, and 18). The symbol at position i of s is denoted by s[i].\n",
    "\n",
    "A substring of s can be represented as s[j:k], where j and k represent the starting and ending positions of the substring in s; for example, if s = \"AUGCUUCAGAAAGGUCUUACG\", then s[2:5] = \"UGCU\".\n",
    "\n",
    "The location of a substring s[j:k] is its beginning position j; note that t will have multiple locations in s if it occurs more than once as a substring of s (see the Sample below).\n",
    "\n",
    "- Given: Two DNA strings s and t (each of length at most 1 kbp).\n",
    "\n",
    "- Return: All locations of t as a substring of s.\n",
    "\n",
    "Sample In: GATATATGCATATACTT and ATAT\n",
    "\n",
    "Sample Out: 2 4 10"
   ]
  },
  {
   "cell_type": "code",
   "execution_count": 4,
   "metadata": {},
   "outputs": [
    {
     "data": {
      "text/plain": [
       "[2, 4, 10]"
      ]
     },
     "execution_count": 4,
     "metadata": {},
     "output_type": "execute_result"
    }
   ],
   "source": [
    "find_sub('GATATATGCATATACTT','ATAT')"
   ]
  },
  {
   "cell_type": "code",
   "execution_count": 5,
   "metadata": {},
   "outputs": [],
   "source": [
    "def find_motif(full, sub):\n",
    "    ls = []\n",
    "    end = len(full) - len(sub) + 1\n",
    "    for i in range(end):\n",
    "        if sub == full[i: i+len(sub)]:\n",
    "            ls.append(i+1)\n",
    "    return ls"
   ]
  },
  {
   "cell_type": "code",
   "execution_count": 8,
   "metadata": {},
   "outputs": [
    {
     "data": {
      "text/plain": [
       "['AUGGAAAUUAUACACGCUUUUCCGUGGCCACUAGUGCUGUGUGGCGAGUAUCGCAGCGUUGGCCUUACGAUUACGGCAGUAGGUCCAUACGGCCAUUCGUUCAUCUGUGCUCUUUACUGCCGUGGGCUACAUGGUGCAUCUCGUAAGUGGUCGUUCGGUCUACGGAGAUACUCACGAACCAGGCUUACUCAACUCCUCCCCCGCACUGACCCUCUCCUAGACCAGUUAGCAAGUCACAGCCACAUAUUAAGACCGAGGCCUACACAUAACCAGGGUUUUUGGCUACAUACACAGACAUCCACGCAGAGAGGACGUAGGAAUGGUACAAAAAUACCACUAUAUGAAGACCUGCUACCUCAUGAGACUCCGCCGCCAUUGACAUGUGGUGGAUCAGGGCCUCACGAAGUGAGUACGCGGCCAGCCGUGCGGCAUAAUCCACUUACGCCCGUUUUCGACUUGAUCUACCAAGCCACGCCAGUCUCACAGUACGGGACUAGUUUUACGUUAAGUCUGAUAACGUCGAGAAAUGAGCAUACGACUUACGGAAGUUCGCGCAUAGGACAGAGGGCUGAUGCUGAGACCUUGACCAAGGGCCUGAAAAGCAUCCGGAUGACAUCUUAUAAUGAGAUGAUGCACCUCCGUCUUUUAUGUAUUCCGCCGUGGUACACUUUGCUUCCCAUAAGGAGUAAUUACCGCGUGCGUCUCUCGGAGUUCAAAUUAGAAUCCGUGGUCUAUAAUAGUGCUCCCUACCUCGUAUCAGCCAUCAGCGGCGGCAUAUGGAUUGUCAACAGUCACGGCAAGCUUGCGACGCGCCUACCAGGACUCCAAGUGGGAGCGAGUCUUUGGUACCCCCCGAUCCGGGUCGCGUUAAUCUGUCUUCUAAAAAUCCAUGGGUUACAUACUCGGACAUCGAUUGCAAUGUCGGAGUAUCAUGACAGCCAACGUAUCUUUGGCACUCCUUGCGCGGUGCCGUUCCCCCUCAAUCCCGGGCUGUACAGUGUGCCCACAAUGGUUUGCACAUGUGUGAAACGAUUCGUGUAUCGCGGGUGGUUUCGCUCUAGACUGACGUGUGUGAUCCUUCGAGAAUUUCGUCCAAACACAAAUACAAUGAUACUGCGGAAUCCCUUAGCCCGAUUGUUAGGCCUCUUGAAAAACUACGUUCAGUCAUCGGAAAACAAAGCGGAGCAGGCUGGCGUAUAUCUGUACUAUGGCUUACAUCUGCGUUUAAAACCUAGGUGUGCCCAGUCAGUGGCCAGAGCUCUGGUUCGGGGCUUAGGAAGACUAAUCUACUCAGACUCGCAAGCCUCCCGGCUGUUAUUCCAGUGGACCUCGGGAACGCUUCGGCACACAUUGUGGAAAUCCCGAAGUAGAUUGGUUCUGCUUGGCAAGUCAUGUGGGACAUCAGGUUCACCUAAAAUUAGUUUAGACUACGCAGAUUCGUCCCGAAUCUCUUACAGCUUAGUCAGAUUGCUCAGCGUUAUUGGCGGCUUUUGCAGGAGGGGCUGGCUUACGAGCCGCAAUAUAUCACGGCUAUCUUUGAUUCCAAGCGCGUCCCGAAUUCUGCCACGACCAAAAUGCCUUACCCGAAAUCGAUCGAACGGGCCAAUUCAGAUUCGCGGUUCAGACAUUGUCGUAUCCUCGAACACACAUCGCCAUGAGCCUAUAGGUGUACCAACUUUACUCUCCCGACAUGCACGCCCCUUGUACUGUUCCCCCAUAACGUCCUUGAAACAGUGGCCUUUGUAUUUGUUAGAACCCAAACCAUGGGGCUGUUGGUGUCGUACGCAAUGGCGGCAUCUGGCCCUCGGUCACUAUAGUGCUAUAGAAACCGAUUCAGCUGACACGCGAACGCGCGCUUGGCUUACCUACCUGAAUCUUACGCCCUUAGGCAGCGAAUGUGUCCGUUCGAGCCAAAGUACAAAUGCAGACGGACUGCCCAUCAUCCUGAGAUAUAUGAUAUACCCUACUUCAAAAUUCAGUAAAGCUUCCGCAAGGUUCUAUUAUGUUUUAGGGAGUCCCAAUUCCGCUCAUUCGCAGGUAAGUAUCAGGGAUCGACCUGAUCCCUGGCCCCGAGUCAGUCUUAUGCUCGAAACGUAUGAACCACUCCCUACUCGCGAAAACCGGCCCUGGGAGGUCGGUACCCAAACAAGGCCCUCACAGAUGAGUUUGUUUUUUUUUGAUGCGACGGUACGUCGACGCACUGCGUAUGGUUCUGUAACAGUAUGUGCACGAAUUUUACGAUGGUACGAAGUGGUCGGUAAAUCCCGUGUAAUUAGGCCUCACGGGCAAGGGCGGUUGAAGUACAUCGGCAAAUCCUCUAUAGUGCCAUCCGAUAUAUUUGCAGCCUUGUUAAAUCUGGAGGCUUUCUAUAACCCUCCAUUAUUGAUGGAGGUAUUCUUGUUGCACACCUCGUUGUGGGCCUUAGUGACCAAACUUCGGAACAUCGCUAACGUAUACGAGUUGGGGAAUUCGGCCCAAAGAGCGGAUAGGGGCCUGUACGAGCCUGAUAAUACGUUACUACACUUUCAAGAUCAGUGCAUUGCGUUUAACCGCUACCGAAACAAUUUCUGCCUUGGGUUCGAGCGCCAUUGCGUGCAUCACGUCGUCAGACCUCCGUCCACCAAUACCGACUCGUUGGCCUGGGCCGAACUGAAGCCAAUAAUAUCGGCUGGCCCCAUAAAAUUAGGCUCAGUCCGAUCUGCGGCUAUGCUGUGUGCAGUCAUUUCAUGGACCUGUUUCUUUGACUGGGCUAUGUUUGAACGAUCACACUUUCAUAGCCGGGUACGACCGAAAUACGGGAUUUUAACAAGUGGAGUAUGCAGAAUUAGGGCCGCAAGCGCACCCUGGCACUCAUUCGGCAAGAGUUUGAUGUACCUGUUCUCAAUAGGUUGCUUCAGACAGACAAUGCUCGGACCUGCCAAAAACGAAUGGCCAAACAUACUGUUCUUAGGCUGCGAAGGCUUUGGCAUGGCAGUGUUACGUCAGGUAACAGGGAUAAGCGUUCAGCGUUUGAAUUAUAAAUCUUGGGGGUGGUUCUCAAGGCCAAAUAAUUACGACCUCCCUCUAUCGAUUAGCGUGGAGCCUAGGACAGCCUGGGCGUACAAUAUUUAUCCCAAGUCUUGCGGUGUAAAAAGUUCCUCCUGUCUCUCUGCAUCCUGUCAGAUUAGUCCGCAGGUCUUACCAUAUAGCGUGCGAAGCAAGAAGGAAAUAGGAAAAGCGCCACGGACUCAGUGCAUAGAUAUUGUAGCUUCAUUACUUUCGAGCCAACUCCAUCUCGUGCUCCUACGGAACGCGGGGUGGGCGCGGCGAUGGCGCCGAUCGCAAAGUGCACUAUGGAUGGACCCCAUGAGGAUGUAUUCUCAUAUAGAUAUUUCACUUUCCCGACCAAUAUGCUUUUGUCAUUCAAUAAGGAUGAUGCGACGGGAUGGUCCACCGAUGCGUUCGCGAACACAGGAGCGAGAGAUCGUAUCGUGCUCUAGUGCUGUCCUACAGUUCGAGUCGUGGCGUCUAUUCGCAUUAAGACUUGAUAGAGUUCUAGGCUGCGCCGCCCAGACAAGACGAGCUAACAAGGCUUCCCUAUAUCUUGGCGGCCCUCCGGUGCACAGUAGUAAAGGUGAUACUUCGGAAGAAACUCUAGUACCCGUAUUGGUACAGGCUACACUUUCGAACUACACAGCCCGACCAUACCGCAGCCACAACUUGUCUACCCCUAGAAGACGGGCAUAUCCUCCCGCUCUUGGCACGCAUUCAGGUACCAACGCGACUGCUGUGAGAUGGGCGACGGCCCCACUCUUGGGCACAAGAUUAGGAAUUUGCGUCCAUCAGAUGCCAACGUUGGCGUACGUAUAUAGCGGCAGGUUUUCGGAUUUCGAAGCUCCGUUUCCAUUUAAAAGACAGCUAGCCAAUGGACGUGAUUCCGCGCAUGGUUGGGUUCUGUAUAACCGAAGUUUACCAGUGCUUUGGGCGGGACUUUGGCCCCACUUUAUUGACAAGCACGUACACGUUCCUCAUGGCGAUGAAUGUCGCUUUAAUGGACAUAGUUUAUGUCUGGAUCUAAGACGUAUUGAACCAAGGCGGGGUGGUCAAUACGCGGGUCACAACGACUUCGGCAUCUCGCGUGCGUGUUCCUGGCGCUUGCAGAUCCACUCGAUCGCCAUGAUGGGAGAGUAUGUCUCGAUUAUCGUCGGGAUUGUUAUCCAGCCUAAGGCGCUACCCCCGAACCCAAACUUGCGGGGAUGUCGUCGCACAGUACAGAUUCGUUGCUACUCAGGUACAGACCCCCAUUACACUAGCGUGUCCCAGGCGUGGCAUAGGGCACUGGAUUGCAGUGUGCAUUCAUGUUUCUGUGGCUGUCCUGAGCUAAGAUCAUUAGCCCCCUCAGCCCCAAACUACUAUCCGGUCAACACCGCUCCCCUUUUUUAUUGGUUUAAGGCCCUUCUCAAGGCCGUGGUAUUCAUGCUUGAUACAGUCAGAAGUACUACCGCACGCCCGCGGCGAGUUAACAAUUCAACCGCUUGGCUGUCAGAUCAAGUCCAGUUUUUUCUCCUUUCGGUCGUCGAUUGGCCGUCUUUGGCGCUUCUCUCUAAGGCGCCACUGCGGCUCUGGCGUCUGUUACGAUUUAGUCGAACCGCGCUGCGGUUCCUACCGCGGUAUUCAGAAAGAAUACUGGGCGCCAACUCAACUUUCGCAGUGCCGGAUGUAGCUACUGUUAGUUAUGUUUCAGUGGAGCUUGGUGGUUUCCCGUUAAACCCUGGGACUGUGGCGCAUAAGACCGGCGGAAGAAGUCACGCUGAGCGUAUAGCAGGCAGCCGUUCUGGGGGUCGUCAUGAAUCAUUGUGCGGAGCCGGUUGUAGUGUUCCCGUUCGUUUUCUGCCGGACAGAUGUGGAUCCCGUUUGUCCGACUAUACGGGGAUGUAUCGAGGAUCUGAGCAGAUAACCAUGUCGGGCCGGUUUGAAUAUGUGAGGGGUUUAUCAUAUGGAGUCCGGAUUCGGUCGACAGAUACCCUGACCCUACGAGCGUUAGACGUUGAAACUCGAAAUACAUCACGGUCAAGCAGGGGGCCACGGCCAUUCCUUGAGUUGCGUACCUUGCCCGUAAACAGCCUUAACUACCGCGCGGCUUUGGCCGAGAGCCAAUCAUCCGGUCCACUCCUUUUGCACUGUGGACCGAGAAACAGGAGAUUCGGCACCGCAGAAGGUUAUCGGAAGCGUCAGUGGCUACGGUCCGUGACCACUCCGGCCCAAGGCUUCUUGUCAGGUAUAGUUCCCGAUGCACUACAGAGACAUCCUCACAUUAGCACCUUCGCCAUGACAAUCCGGUGCCGCGCAACGCUCAAUGAGGUCAGUACAUCGCCUUGCACAGAUCAUUACGAAAGGGCACGCGAAGGUCGUACGCUUGUAGCUUUGCCUUCUAUCAGAUUCCGCUGCAUCAUCGCCCUUCGUAUUAAAGUGAGCCUUUCAGACCGAUGUGUCGCGAGAGGUUCAGCUACAGGUACUUUCACGGUUCGCAAUAUUACCGUGAUAGGUAUAACUGAACCUCCUCGCUGCCUUAUGCGUACCAAUUAUUCCUGCAACCAAUUCGUAAUGUCGUGCGAAAGGACUCCAAGGGAUUUCAUAGCACUAACACCCCUACCAAAAAUUUCACUGGGGAAUCUAAUUAUGUCACAAAUUACCACGAGUCACGGCAGGUUCGGCUACGCUUAUUGGACAUGUACCGACAUAACUGAGGCACCGGACAAGUAUCGACACUCCUUUUAUGGCACUCACAUCGCGGUAAUAGAGAUGACGAAGUCAUUGCGCAGACAUACUCCUAUCCGCCUUCGAACGAAGGUGUCACUCCCAGGUAUUACCACGCAGUACAUGUUCCCUAACUAUUUACUGCCAAUGGGACGCAGCGCGUGGUGUCGACUCAUCUGCCGUUCAAUGUACGCUGCUCUGGUAUGUCCACGCUGCUACCCUAAAACUGUCGUGAUCAGAUGUACGUCGCGUACGGGUAGAAGCUUGUCGACGAACGGACGUCACACCAAUAAACACUGUACCCUGUUGGAUUGGUUGAUGGAGGUGCGCCAGAAACCAACCGGCCUGCUCUCGACGCGUCAGUCGGAAGGACUUAAUAGUAGGAACGCAUGUCAACGUACCCGUGCCCUCCAGGCCGCGGGACGAGAUAACCAAUCCUCGUACUCGUCCUUUUGGGGUAUGUUCGCUGUGAUCACGAGAUUUUCCAACGUCCAUAGCUUAGUCCUGCAACGUAGCCUAUUCUUGAUAGUGCAUAAAGUAUUAGUCACCAUACCACAGCUGAUAACUGUUCAGGUAUGCGGGAUUCAACAGAUCGCAAGUAUGUUACACUGUAUCCCUCCAAUGGCGCAGCUGCUAUUACUUUGGUAUCGCAUGACGGUGGACACUGGACCGCUUCCGAACUUGAUGACCCAUGCAGUUGUUCCCAGCGACCAUCGUCAAUUUUCCCCAAUUGAUCACGGUAGUUGGCGGCCACUGCGUGUAAAAAACCAACGCUCUGAUCAUCCGGGGAUCCGUGAACGGGAUUCUAUCACUCAGUCAGUAGAUUGCGACGCCCAGCGGCCCAUACGGAGUUUGGCGCGUAAUUCCAUAACCGGCACGGUACUCCACCAUACGCUGGGACAAGCGACAAUCGAUACAUGUAGUGCUCUGUCGGACCCUUCGGCCCUCUCUGCAAUGCACGCUGGUGCGCGAAGCCACACAGCUUUCCGGACGCGCAGUUAUGACAUGUGUUCUAUCAAUUUAGGACCUGUGAACUGCACUUGUGUGAGUUCCCCUGGAGUUGAACGACUGAUCGCAAUAUGUCUCAACCGAAUCAGGGACAAAUCGUUCGACUCGUCAGUUAGCAGUAAAAAGCGCGGUUGGUCCGAAAAAUUCUCCUCAAGCUGGCGGUGUGCUAUAAAGGUGUCAGGCAAUGGCGUAGGAACAAAUCGGUUUACUCUAAUAGUACGGGGAAAUAUAGGUCAUCUUGAGUCAUUCGUCUACAUAUACCCGGUACAUAUAGCAGCGGGGUACUUGAUACGCCCUGUUGAUAUUCCGCUACCUAUCCGGAAAAGGUCGCAGUCUCACGACCAUGGGCGGAUGUCCGGUAACGUUCUCAGCAGCUAUCCCACAUUCGAGAACUAUGUAAGACAGGUCCAAUGCAUCCCCCCGAAUGUGGAAAAAAGGUUGGGUACCUGUGAUAACGUGAUCCCAAAGAGCAGCUUGUCAAGAGCAACACUGGGGUCUUACGAGAGUCAUUCGGAGGAGCUCUAUCACUCUCAGAUGGCAGGCGCUAAAUUCCUGGGCCCGACCGGCUCAUUGAAAUCAUACAGGUCGCGGGGACAGGGGACUGCGGUAAAGUUCAGCAGGACCGAGGGGAUUCGGCUUUUAGUACGAACCACUCCCCCAAAUUUGUACCGUUACAGAGGGAGAGCGAGCGGUGGUACUGGGUUAAAACUAUCGCUAAUCACCUCUGAAACCUCCAUCUCACCCGGAAGAUGGCAUCAAAGGCUGCGCAAACCAAAGCACCUGACGUUGGGGCUGAAUGUUUUAACAAAUCUACGGACUAGCUAUAGGUUUUGCGUCCCCAAUUGGUUGACCCGGAUAAAUUGCGUAUUCAUCAUAAAUAUACACCUAAGACCGUACCUCCUGCUCCUCGCGUAUCCGCCGCAGCAAGCUGGCAGUGGUGCCCUAGUCCAUCGCAAACCUUACGGAUGCCUUGAGGACAGGACAUCCAAGCUCGGAAUUACCGGACCAACAAUCACAGUCGCGACCGUGACAAUAGGGGAUUCACAGCGGGUACCUGUUCCACGUGCUCAGGAACACAAUGCUUUGCCUUCAGGUAGCUGCGUAUAUAUGAGGGAAAGGACGCGUCUUAAUGUUUGGCGAUAUACCUUGAGACCAGUGAUGAUGGUGGAGGGAUCUGCAACCCCCGAAACGCCCCAGGGAUGCGUGCUCCCACUUUAUAAGACGAUCACUUCCGUGGCAAGUCCGAUAGCUACUACCCCGAAAAUUAGGGGGAAGAGAGGCAACGCUCGGGUGGUGUACGCGACAUCUAUGUCAGGUGUACGGAAAUUUAACUUCAUACCAUGUAUACGGUUAGUAACACAUGGGGAAACCUUCUUCGGAGCCACCCUCAGGGGCCAAAUUGGAGCGCAGAUUAAACCAUCGCUUCCGCCUCUAGGAAAACAUAAUUUACUUCUAAACGAAAUGUUGGGGUGGCUAACUCGUCCUCUGAAUUUGUGUUCGAGCAAAAGGUUCCCAUAUCGGCUUAGCAUCGCGCGCCCAGGGAAUGAACCCUACAACAUCACCUAUCAGAGUAAUCGGACUACUUGCAAAGAGAACCUUGAAUUUUCGAAAACGGUUGCAAAAGACCCUCUAUCAAGGCGUGACCUUGCGCGUAUAGAGACGUCUAUAGUGCAGUUCCGGCCGCACCGAAAGAACCGCUAUGAUUUGAAGAACUCACCAGCGUAUAUUAGAACUGAGGCCAUCUACCGGAGCAGUCUGUGCGUAGAUCGUUUACAAGUUAGCAGUCUCCAAACAGAAAAUUUACACUUUAGGUACGGCGUUCACGCUACCCGCCUCCGCGCGCGAAAGAGGAAAAGAACUGGCGGAGCUCCAUACAUCAGAACCGGUACCGCCUUCGUAGACUUGCUGCAUAGUCAAACGGGACCGGGUUAUUCCCCCAGCCUUUUUAAGUUAUCGAGAAGAUUGGUGCUGUAUCAUCGCGUGAGGCUCUCGGGAUACAUUGGGGCUGAUAGUCUGCUUGCAGUGCCUGUUGGGCAUUAUAUAUGGUCCUUAACCUAUCUGACCGGGAGAAAUUACCUAUCAAAUUCCCAUACGUCCUCUAGUCUACAAAAGAAGCUAGCUAUUUGCUAUCCGAAGGUAGGUCGACUGGUGAGGCCUCGCACAAGAUUACUUUACGAAGACCUGGGAGUAUGGGGUGUCACGACGGACAGAAGCAGUUCGUUCGACCCAGCCGACCUGGUACUCUCUGCAGGAGGGAACGGCCGAGAUGGCGUGUGA',\n",
       " '']"
      ]
     },
     "execution_count": 8,
     "metadata": {},
     "output_type": "execute_result"
    }
   ],
   "source": [
    "f_ls"
   ]
  },
  {
   "cell_type": "code",
   "execution_count": 9,
   "metadata": {},
   "outputs": [
    {
     "name": "stdout",
     "output_type": "stream",
     "text": [
      "[33, 50, 57, 97, 104, 122, 129, 136, 168, 177, 184, 208, 236, 255, 307, 342, 397, 438, 447, 473, 550, 570, 577, 590, 605, 620, 657, 735, 750, 775, 807, 814, 849, 859, 886, 919, 926]\n"
     ]
    }
   ],
   "source": [
    "with open('C:/Users/Administrator/Downloads/rosalind_subs.txt','r') as f:\n",
    "    f_ls = f.read().split('\\n')\n",
    "    full = f_ls[0]\n",
    "    sub = f_ls[1]\n",
    "    print(find_motif(full, sub))"
   ]
  },
  {
   "cell_type": "markdown",
   "metadata": {},
   "source": [
    "## Problem 10\n",
    "### Consensus and Profile\n",
    "A matrix is a rectangular table of values divided into rows and columns. An m×n matrix has m rows and n columns. Given a matrix A, we write Ai,j to indicate the value found at the intersection of row i and column j.\n",
    "\n",
    "Say that we have a collection of DNA strings, all having the same length n. Their profile matrix is a 4×n matrix P in which P1,j represents the number of times that 'A' occurs in the jth position of one of the strings, P2,j represents the number of times that C occurs in the jth position, and so on (see below).\n",
    "\n",
    "A consensus string c is a string of length n formed from our collection by taking the most common symbol at each position; the jth symbol of c therefore corresponds to the symbol having the maximum value in the j-th column of the profile matrix. Of course, there may be more than one most common symbol, leading to multiple possible consensus strings.\n",
    "```\n",
    "              A T C C A G C T\n",
    "              G G G C A A C T\n",
    "              A T G G A T C T\n",
    "DNA Strings   A A G C A A C C\n",
    "              T T G G A A C T\n",
    "              A T G C C A T T\n",
    "              A T G G C A C T\n",
    "              \n",
    "              A   5 1 0 0 5 5 0 0\n",
    "Profile\t   C   0 0 1 4 2 0 6 1\n",
    "              G   1 1 6 3 0 1 0 0\n",
    "              T   1 5 0 0 0 1 1 6\n",
    "\n",
    "Consensus\t A T G C A A C T\n",
    "```\n",
    "- Given: A collection of at most 10 DNA strings of equal length (at most 1 kbp) in FASTA format.\n",
    "\n",
    "- Return: A consensus string and profile matrix for the collection. (If several possible consensus strings exist, then you may return any one of them.)\n",
    "\n",
    "Sample In: \n",
    "```\n",
    "        >Rosalind_1\n",
    "        ATCCAGCT\n",
    "        >Rosalind_2\n",
    "        GGGCAACT\n",
    "        >Rosalind_3\n",
    "        ATGGATCT\n",
    "        >Rosalind_4\n",
    "        AAGCAACC\n",
    "        >Rosalind_5\n",
    "        TTGGAACT\n",
    "        >Rosalind_6\n",
    "        ATGCCATT\n",
    "        >Rosalind_7\n",
    "        ATGGCACT\n",
    "```\n",
    "\n",
    "Sample Out:\n",
    "```\n",
    "        ATGCAACT\n",
    "        A: 5 1 0 0 5 5 0 0\n",
    "        C: 0 0 1 4 2 0 6 1\n",
    "        G: 1 1 6 3 0 1 0 0\n",
    "        T: 1 5 0 0 0 1 1 6\n",
    "```"
   ]
  },
  {
   "cell_type": "code",
   "execution_count": 54,
   "metadata": {},
   "outputs": [
    {
     "data": {
      "text/plain": [
       "['A', 'G', 'C', 'C', 'A', 'A', 'C', 'T']"
      ]
     },
     "execution_count": 54,
     "metadata": {},
     "output_type": "execute_result"
    }
   ],
   "source": [
    "cal_census(pfl_2_tbl(cal_profile(test)))"
   ]
  },
  {
   "cell_type": "code",
   "execution_count": 91,
   "metadata": {
    "scrolled": true
   },
   "outputs": [
    {
     "name": "stdout",
     "output_type": "stream",
     "text": [
      "ATGCAACT\n",
      "A: 5 1 0 0 5 5 0 0\n",
      "C: 0 0 1 4 2 0 6 1\n",
      "G: 1 1 6 3 0 1 0 0\n",
      "T: 1 5 0 0 0 1 1 6\n"
     ]
    }
   ],
   "source": [
    "test = ['ATCCAGCT','GGGCAACT','ATGGATCT','AAGCAACC','TTGGAACT','ATGCCATT','ATGGCACT']\n",
    "prt_output(cal_pfl(test),cal_census(cal_pfl(test)))"
   ]
  },
  {
   "cell_type": "code",
   "execution_count": 101,
   "metadata": {},
   "outputs": [],
   "source": [
    "import numpy as np\n",
    "\n",
    "def read_txt(path):\n",
    "    with open(path, 'r') as f:\n",
    "        f = f.read()\n",
    "        dnas = f.split('>')[1:]\n",
    "        ls = []\n",
    "        for dna in dnas:\n",
    "            dna = dna.split('\\n',1)[-1]\n",
    "            ls.append(dna.replace('\\n', ''))\n",
    "    return ls\n",
    "\n",
    "def cal_pfl(ls):\n",
    "    profile = [[],[],[],[]]\n",
    "    for i in range(len(ls[0])):\n",
    "        ith = {\"A\":0, \"C\":0, \"G\":0, \"T\":0}\n",
    "        for j in range(len(ls)):\n",
    "            ith[ls[j][i]] += 1\n",
    "        for k in range(4):\n",
    "            profile[k].append(list(ith.values())[k])\n",
    "    return np.array(profile)\n",
    "\n",
    "def cal_census(profile):\n",
    "    trans = {\"0\":\"A\",\"1\":\"C\",\"2\":\"G\",\"3\":\"T\"}\n",
    "    census = []\n",
    "    for i in profile.argmax(0):\n",
    "        census.append(trans[str(i)])\n",
    "    return census\n",
    "\n",
    "def prt_output(profile, census):\n",
    "    c_out = \"\"\n",
    "    for i in census:\n",
    "        c_out += i\n",
    "    print(c_out)\n",
    "    p_dna = [\"A\", \"C\", \"G\", \"T\"]\n",
    "    p_out = []\n",
    "    for i in range(4):\n",
    "        p_start = p_dna[i] + \":\"\n",
    "        for j in profile[i]:\n",
    "            p_start += \" \" + str(j)\n",
    "        print(p_start)"
   ]
  },
  {
   "cell_type": "code",
   "execution_count": 105,
   "metadata": {},
   "outputs": [
    {
     "name": "stdout",
     "output_type": "stream",
     "text": [
      "CACATACACAGGCCCGTATTCATATTCTTAAATGGGACCACCGACCACGGCGTAGAGATCTAGTATCATTCCAGAAAGAACACAGCAGAACCGCTCTTTAGATCCGGGCTATCGGGTAACGCTACCGACTGCTCCCCAAAATGTTTCAGTAGCGACCACACGAAACGCCCGCACCCCGGAACCCAATCGAACACCCAATGCCTGAGCAAGTATACCGTAAGCGGTGTAATGACTTCCTATTACCGTGATAACTACCCCTACTAACACAATGCACTGGCCTAAAAATACTCCAATTATGGATCGACATCCCGTGAGGTTTTCACGCATTCCATAAACTAAAGAAGCGTCTAGCGATACAGTAAACCCCAGATCAAGACACAGCGAAAAACCGTACGACTGAAGGGGAGCTCTGAACTGAACCAGAATTCTTACCCAGACTAGCGTTAGCCTCCCGAACGCCAAAGAAGATTGTTTCGGGAAAGACAAAACCTACAACTACGCAGATGCAATCGATCGAACTCGTTTTTGACGCTGTGGAACGTTTCGATAAAAGCCGCCAACGAAGTACGAAAAATATAACTTAGTACCCACGGATACCGGACCATTATAAGCCAAGCGAACTACGGGGGCAGTTACATTCGGCGTATGCCACCTGATACGGAGGCTCCACACAGACGCAAACATGGGCAGCAACGTAGGCACTTCAATCATCATTTTCCCAACACGAATCATAGCACCGGGATAGAACGAGGATCGAACCACCACCCATAGCCTCCTGAAAGTCTGCCTGAACTATCTACAAAATATCATTTCGGTAGCAAGCAGCACTACCGGAACTAATCATAGCCAGACGCCTAAAGACAGGGTTGAATAGATGAGCAGCCTGAGAATGTCTGCAAAGGAGTAAAGTTTGAACCCCCGGAAACACGCCGCTTAAGGACCCCGCTGAC\n",
      "A: 2 5 3 3 3 6 2 5 2 3 1 2 1 1 2 2 2 4 2 1 2 6 1 3 3 2 1 1 2 4 4 4 2 2 1 2 3 2 2 4 2 1 2 4 2 2 3 2 3 2 2 3 3 5 2 4 2 4 2 2 2 4 3 2 3 0 3 6 2 1 2 2 4 3 3 3 3 2 3 4 1 4 1 5 2 3 4 3 3 4 3 2 1 0 1 2 2 3 2 5 3 3 2 1 3 0 3 4 2 1 3 2 2 1 1 2 2 4 4 3 2 2 1 3 2 2 3 3 2 2 2 2 1 2 2 1 1 3 4 4 3 2 3 2 1 0 1 3 1 1 4 2 2 2 5 2 2 3 0 4 2 2 4 4 5 1 2 2 2 2 2 2 4 3 0 1 1 2 2 4 5 3 2 3 5 3 3 1 0 4 3 2 4 2 3 2 3 5 2 3 2 2 2 3 3 2 1 5 7 3 2 5 2 5 2 2 2 0 5 4 2 3 1 2 2 1 1 4 4 1 1 4 2 0 1 1 3 2 4 0 3 4 2 2 2 2 2 4 3 3 4 2 1 5 3 2 2 2 1 4 3 1 6 5 1 3 2 3 4 3 1 2 4 2 3 0 1 2 3 2 3 3 4 4 6 2 3 2 2 1 2 7 4 1 2 3 3 2 2 3 1 2 1 4 1 3 3 2 2 1 2 1 1 3 1 3 3 2 1 3 2 4 3 0 0 4 1 3 2 3 5 2 3 4 3 1 3 3 5 6 2 4 6 3 1 2 3 0 2 4 3 1 0 4 2 3 3 4 2 2 5 4 5 1 2 2 3 3 3 3 2 2 3 4 1 3 2 3 2 4 1 1 0 3 3 4 3 4 2 2 1 2 4 2 2 6 2 0 3 3 3 2 3 2 1 6 1 2 1 2 3 1 5 3 3 3 2 4 5 2 3 4 1 4 4 0 1 3 1 2 4 2 2 2 5 1 5 0 3 3 1 0 3 3 2 3 1 2 1 3 1 2 2 1 4 4 2 2 3 2 3 4 4 1 4 3 3 3 2 3 1 2 1 3 1 3 1 0 4 5 3 2 4 0 4 3 3 5 2 2 2 3 2 3 4 3 2 3 0 3 1 3 1 4 1 3 4 3 7 0 2 1 4 2 3 2 3 3 1 1 2 0 1 2 0 3 2 0 4 2 2 2 3 2 3 1 1 3 5 2 2 0 3 1 1 1 4 1 3 3 3 3 2 2 2 3 1 2 3 3 3 3 4 6 2 2 4 2 2 4 5 5 3 3 0 7 3 3 3 3 0 1 4 3 1 3 2 2 2 4 2 2 2 5 0 4 3 1 1 2 4 2 1 3 2 3 3 2 3 4 2 2 2 3 4 2 2 2 4 4 2 2 3 3 0 2 2 2 1 3 3 2 2 1 4 2 4 3 2 2 2 3 2 2 3 4 2 0 2 3 4 2 2 1 3 4 0 3 1 2 2 5 2 2 2 2 2 1 5 1 7 2 5 2 3 1 3 2 4 3 3 2 3 1 2 3 1 2 4 1 2 4 6 2 1 2 3 3 2 3 3 3 3 1 0 3 3 1 1 4 2 3 6 2 1 2 1 1 2 2 4 4 2 5 2 2 5 5 3 1 3 2 3 2 1 5 3 2 2 2 2 5 2 4 1 3 4 2 1 4 0 2 4 1 3 2 3 4 3 2 6 1 3 5 2 1 2 3 2 3 2 1 2 1 2 2 2 1 5 3 5 2 4 3 3 3 2 1 2 2 3 3 0 1 5 2 2 1 3 4 5 4 3 4 1 4 0 2 3 0 1 2 1 1 3 3 4 3 0 3 3 2 1 4 2 2 6 3 2 3 1 3 3 2 5 3 3 2 4 4 1 2 4 2 4 1 0 3 3 3 4 2 1 2 2 3 4 5 3 3 3 3 4 2 1 0 2 2 2 3 4 2 3 2 4 1 2 7 1 2 6 1 2 2 1 0 3 3 3 4 1 3 1 3 3 2 1 3 3 5 2 2 5 1 2 5 4 4 2 3 1 2 3 3 4 1 0 2 2 2 2 2 5 4 3 2 4 2 0 2 1 3 3 1 2 3 5 2 1 4 2 1 0 1 1 2 1 0 5 2\n",
      "C: 3 2 4 2 3 3 4 2 3 2 1 1 5 3 3 1 1 1 1 2 3 1 1 2 1 2 5 2 1 1 4 2 2 2 2 3 3 5 3 1 3 3 0 1 3 5 3 4 0 2 5 3 1 2 2 3 2 2 1 3 2 2 0 1 3 3 4 1 2 2 3 6 1 1 2 3 3 2 1 2 4 2 3 2 2 4 2 1 2 0 4 5 3 5 3 5 1 2 1 2 1 2 3 5 4 1 0 1 6 2 3 3 5 1 0 1 2 1 0 5 2 3 2 2 3 5 2 1 4 1 1 3 3 4 5 4 5 2 0 0 2 2 2 2 3 3 4 3 1 3 1 1 4 1 3 3 3 2 5 3 5 2 3 4 0 5 1 3 3 4 2 4 0 4 5 5 5 2 1 2 2 4 5 4 2 2 0 6 2 2 3 3 3 5 5 3 3 1 1 0 4 5 1 1 3 2 6 0 0 1 3 2 3 4 3 4 3 1 2 1 1 5 3 2 1 2 3 2 4 3 3 3 4 2 1 5 5 3 1 3 1 2 4 3 2 2 2 4 2 2 3 3 3 3 4 3 3 4 1 3 4 2 1 2 4 3 3 1 2 2 1 3 1 6 0 2 2 3 4 3 2 3 1 1 1 2 3 3 1 5 4 1 1 2 3 3 1 2 1 1 3 4 1 2 3 3 2 4 4 5 2 1 3 3 2 1 3 3 2 0 5 1 4 2 4 0 3 1 3 4 0 1 2 4 2 5 1 2 0 1 3 2 2 2 6 1 1 4 1 2 1 4 3 1 1 3 4 1 3 2 2 2 3 6 4 3 6 3 2 3 2 5 2 1 1 3 4 3 5 2 2 4 2 2 3 1 2 4 4 3 3 0 3 3 2 1 4 1 0 2 2 0 1 3 2 2 1 3 2 4 2 1 1 3 4 1 2 2 3 3 4 1 0 1 2 3 2 7 3 2 2 3 4 3 0 2 1 4 1 3 1 5 1 2 3 2 1 4 4 2 4 4 4 3 1 1 4 2 4 4 3 4 1 1 3 3 0 2 1 1 0 2 2 2 4 1 2 0 3 3 2 1 2 6 2 2 1 1 5 6 3 2 5 2 1 4 2 3 4 1 4 3 1 2 2 1 5 3 0 3 3 1 1 3 4 2 3 3 4 3 4 0 1 2 2 2 3 1 3 3 2 3 0 2 1 1 3 3 2 4 2 2 3 1 4 1 3 1 1 3 2 2 3 3 5 0 4 3 3 3 4 1 2 2 2 2 2 4 1 0 1 2 2 1 1 1 3 3 2 5 2 2 3 3 2 3 4 5 4 2 3 1 1 2 3 3 4 5 3 2 1 3 4 2 2 2 2 2 3 3 2 5 3 2 3 2 4 1 0 1 4 1 3 5 2 2 3 2 2 4 2 2 1 1 1 4 4 0 2 4 2 1 3 1 1 1 3 3 3 5 1 4 3 2 3 1 3 2 3 2 2 2 2 2 4 1 7 4 2 4 2 4 1 1 1 3 1 3 2 2 3 3 3 4 1 1 3 4 2 3 4 1 0 5 1 3 3 1 1 4 3 6 2 1 5 2 3 2 5 2 3 4 2 1 3 3 3 3 4 3 1 2 4 2 3 3 1 2 1 5 1 2 1 2 3 1 4 4 2 1 2 2 1 2 1 3 4 4 1 1 2 1 2 3 4 2 3 0 4 4 1 5 4 1 4 5 3 3 2 3 3 3 4 3 3 3 2 1 0 2 1 3 1 4 1 1 4 5 1 2 3 3 5 3 3 0 3 3 2 5 3 0 3 4 2 2 1 4 2 3 2 3 4 2 2 2 2 1 5 3 2 3 4 4 2 5 4 4 1 1 3 4 3 3 2 2 4 1 1 2 3 5 2 2 2 3 4 4 3 2 4 5 2 4 3 1 1 2 3 3 2 4 3 1 2 2 2 2 2 3 3 1 3 1 3 2 2 0 2 3 3 3 4 4 2 2 1 1 3 2 2 1 3 4 1 2 5 2 1 3 2 2 2 2 2 1 1 2 2 1 1 3 1 2 3 3 5 3 4 4 1 1 2 2 3 6 1 4 1 3 3 2 4 2 3 1 3 2 1 1 4 5 4 5 1 4 3 3 0 3\n",
      "G: 3 0 1 3 0 1 4 0 3 2 6 4 3 3 2 5 2 2 2 3 2 3 3 3 2 2 2 2 3 2 1 2 0 5 4 4 3 2 2 3 2 3 4 4 2 0 2 2 5 4 1 4 2 1 4 2 3 2 3 2 1 3 4 3 2 2 2 1 2 3 2 0 3 4 3 3 1 4 3 3 2 3 3 1 3 2 2 4 2 3 1 1 5 2 2 2 2 0 1 1 6 2 1 2 2 5 5 5 1 3 1 1 2 4 5 5 2 4 2 2 3 3 1 2 2 1 4 3 3 3 5 2 2 2 1 3 3 2 3 2 3 2 4 1 2 3 2 2 5 1 2 4 2 5 2 2 3 3 3 2 1 3 0 2 3 2 5 3 2 3 3 2 3 2 2 1 3 3 4 2 1 1 2 0 2 2 2 2 4 2 3 3 2 0 2 3 2 4 2 4 1 2 2 4 1 3 2 3 1 4 1 2 1 0 2 2 4 4 2 4 5 0 4 3 3 4 2 2 1 1 4 2 3 3 3 2 2 1 2 2 1 1 2 2 3 2 5 0 1 2 1 2 2 2 1 2 2 2 3 0 2 3 2 3 4 2 3 3 3 1 5 3 2 1 3 4 6 3 2 0 3 2 4 2 1 2 1 2 3 2 3 0 3 2 1 2 1 6 5 3 1 0 5 1 3 2 1 2 1 2 3 3 4 1 4 5 0 1 3 3 1 4 2 5 4 4 1 1 3 0 4 3 2 1 3 2 2 2 2 2 4 0 2 5 2 4 2 3 3 1 5 3 5 2 1 1 0 4 4 1 2 3 2 3 3 3 0 3 4 3 1 1 3 2 4 1 0 2 3 2 4 3 6 3 2 3 2 0 2 2 4 1 1 2 4 0 3 4 4 2 2 4 6 4 6 0 5 3 2 2 1 4 1 1 2 2 4 3 1 2 1 1 5 4 1 3 3 0 0 0 3 2 3 2 1 4 2 2 2 1 5 1 4 1 1 2 6 2 1 1 4 1 2 5 4 3 3 4 3 2 2 0 3 8 1 2 5 3 3 1 5 2 2 0 3 4 5 5 2 0 2 4 1 1 2 2 3 3 0 1 1 3 0 3 4 1 1 3 4 5 1 2 6 2 3 5 1 1 1 3 2 4 3 1 2 4 1 1 3 2 3 7 2 2 3 1 0 6 2 2 3 2 3 4 2 5 5 2 1 2 4 3 0 3 2 6 3 3 3 1 3 2 4 2 3 5 3 3 1 2 0 4 2 0 3 2 1 3 4 2 3 1 2 3 4 0 0 3 2 0 3 3 2 4 1 3 4 2 2 3 3 4 4 3 3 2 2 0 5 5 3 2 3 3 1 1 3 1 1 2 3 1 2 3 2 3 4 4 3 1 2 2 3 0 4 3 5 4 4 1 2 3 0 3 2 1 1 3 0 3 4 4 3 4 2 2 1 4 2 1 3 2 3 2 4 4 3 3 3 3 3 2 5 3 3 2 0 3 3 2 1 3 2 7 3 3 4 3 2 3 2 3 3 0 4 4 4 2 1 4 2 2 3 2 5 0 3 5 7 1 3 0 1 3 3 3 3 2 3 3 1 1 1 3 2 1 2 3 2 2 3 0 2 1 2 4 0 2 2 2 3 1 3 5 3 3 1 2 4 5 3 3 2 2 5 1 0 2 5 2 4 4 3 2 1 4 2 2 1 3 2 3 2 3 0 0 2 2 1 2 5 3 0 2 3 3 2 5 4 3 2 5 0 1 2 5 3 3 3 3 1 3 4 2 2 2 2 2 2 1 2 3 3 1 2 3 3 2 3 3 3 1 2 4 4 1 3 4 5 2 3 4 3 1 4 2 0 2 3 3 3 1 4 4 0 2 0 3 1 2 2 3 2 2 3 4 3 1 3 4 2 3 5 4 2 0 2 0 1 4 3 0 1 4 4 4 2 2 3 2 1 2 2 5 0 3 3 1 4 2 1 4 2 4 3 5 3 6 2 1 2 4 1 3 2 3 4 2 3 2 5 4 0 4 2 3 2 1 4 2 3 1 4 3 3 3 1 3 3 2 4 4 1 2 2 1 3 3 5 2 3 4 1 3 1 3 2 5 5 3 2 2 3 3 4 1 2 4 3 3\n",
      "T: 2 3 2 2 4 0 0 3 2 3 2 3 1 3 3 2 5 3 5 4 3 0 5 2 4 4 2 5 4 3 1 2 6 1 3 1 1 1 3 2 3 3 4 1 3 3 2 2 2 2 2 0 4 2 2 1 3 2 4 3 5 1 3 4 2 5 1 2 4 4 3 2 2 2 2 1 3 2 3 1 3 1 3 2 3 1 2 2 3 3 2 2 1 3 4 1 5 5 6 2 0 3 4 2 1 4 2 0 1 4 3 4 1 4 4 2 4 1 4 0 3 2 6 3 3 2 1 3 1 4 2 3 4 2 2 2 1 3 3 4 2 4 1 5 4 4 3 2 3 5 3 3 2 2 0 3 2 2 2 1 2 3 3 0 2 2 2 2 3 1 3 2 3 1 3 3 1 3 3 2 2 2 1 3 1 3 5 1 4 2 1 2 1 3 0 2 2 0 5 3 3 1 5 2 3 3 1 2 2 2 4 1 4 1 3 2 1 5 1 1 2 2 2 3 4 3 4 2 1 5 2 1 1 5 5 2 0 4 3 5 5 3 2 3 3 4 1 2 4 3 2 3 4 0 2 3 3 2 5 3 1 4 1 0 1 2 2 3 1 4 3 2 3 1 4 4 1 2 1 5 2 2 1 3 2 4 3 3 4 2 1 2 2 5 4 2 5 0 2 3 5 4 3 3 3 2 4 2 3 2 3 5 2 3 3 1 4 4 4 4 2 1 1 3 2 2 5 5 2 3 1 4 3 1 2 2 4 3 3 1 1 4 0 0 1 3 4 3 4 3 1 2 2 3 6 3 3 1 1 5 1 1 0 0 1 2 1 1 1 1 5 2 2 3 4 3 4 2 0 2 3 2 2 2 2 2 3 2 2 3 2 7 2 3 2 3 1 5 3 3 3 4 0 1 1 2 3 2 5 2 4 4 3 3 1 4 2 1 1 3 2 4 4 1 3 4 4 0 6 6 1 3 1 3 4 3 2 4 4 3 3 4 2 4 4 3 2 2 4 4 1 3 2 1 1 2 1 2 0 2 2 2 2 0 2 2 2 2 4 5 4 4 5 5 2 2 2 5 1 2 3 3 3 3 2 3 3 1 3 1 4 2 3 2 1 2 5 1 2 1 4 2 2 2 4 1 0 3 2 4 3 4 2 4 1 2 3 3 2 4 1 3 6 4 5 4 5 3 1 3 3 3 4 2 4 3 1 2 2 2 2 5 4 5 3 2 0 5 3 3 2 3 1 3 0 2 2 2 3 2 3 2 2 2 3 4 3 1 3 4 1 2 3 3 5 2 4 1 3 2 5 4 1 0 6 1 0 1 2 1 2 3 3 0 4 1 1 4 1 1 2 3 2 2 5 4 2 5 3 1 3 2 3 2 1 3 0 3 3 4 2 5 1 2 4 3 0 2 3 2 3 3 7 5 3 3 1 4 6 1 2 2 2 3 4 3 4 3 3 1 2 2 2 5 0 1 4 2 3 3 3 1 1 3 1 5 1 2 0 3 0 1 2 0 3 3 2 2 2 2 2 2 1 5 3 2 2 2 3 2 2 3 1 1 3 5 1 1 0 2 1 1 4 5 2 2 1 5 1 1 4 2 1 4 4 4 4 3 2 3 2 4 2 2 3 1 4 1 4 2 3 5 3 1 3 1 2 2 2 2 3 0 5 2 3 3 2 2 3 3 4 3 1 4 2 2 2 4 2 1 1 1 1 1 4 4 3 2 5 2 0 3 4 4 2 2 4 3 1 2 2 0 5 2 4 1 1 1 4 3 3 1 1 4 0 6 3 4 3 0 0 3 1 1 5 1 6 2 2 4 4 4 3 3 1 4 1 2 0 2 2 1 2 1 2 1 0 1 4 3 3 2 0 1 3 3 3 4 4 2 4 0 2 4 1 2 3 2 1 1 0 0 2 0 3 6 3 3 3 0 2 3 2 3 3 4 4 4 3 2 2 5 2 2 3 4 3 2 3 3 0 2 2 0 4 3 3 0 2 3 5 2 5 0 4 3 0 3 3 0 1 2 3 3 4 1 3 3 2 4 5 4 2 2 0 3 4 2 1 2 3 3 2 2 2 1 2 1 4 3 3 1 2 4 4 3 0 1 3 2 2 2 3 1 4 3 4 3 2 2\n"
     ]
    }
   ],
   "source": [
    "ls = read_txt('C:/Users/Administrator/Downloads/rosalind_cons.txt')\n",
    "profile = cal_pfl(ls)\n",
    "census = cal_census(profile)\n",
    "prt_output(profile, census)"
   ]
  }
 ],
 "metadata": {
  "kernelspec": {
   "display_name": "Python 3",
   "language": "python",
   "name": "python3"
  },
  "language_info": {
   "codemirror_mode": {
    "name": "ipython",
    "version": 3
   },
   "file_extension": ".py",
   "mimetype": "text/x-python",
   "name": "python",
   "nbconvert_exporter": "python",
   "pygments_lexer": "ipython3",
   "version": "3.7.3"
  }
 },
 "nbformat": 4,
 "nbformat_minor": 2
}
